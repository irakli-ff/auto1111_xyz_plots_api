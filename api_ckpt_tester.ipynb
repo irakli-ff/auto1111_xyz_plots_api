{
 "cells": [
  {
   "cell_type": "code",
   "execution_count": 175,
   "id": "53fb40d5",
   "metadata": {},
   "outputs": [],
   "source": [
    "import json\n",
    "import requests\n",
    "from PIL import Image, PngImagePlugin\n",
    "from pathlib import Path\n",
    "import base64\n",
    "import io\n",
    "import torch\n",
    "import pandas as pd\n",
    "\n",
    "\n",
    "BASE_URL = \"http://127.0.0.1:7860\"\n",
    "MAX_IMAGES = 1\n",
    "OUTPUT_DIRECTORY = \"outputs\""
   ]
  },
  {
   "cell_type": "code",
   "execution_count": 176,
   "id": "a83c20ad",
   "metadata": {},
   "outputs": [],
   "source": [
    "def load_payload():\n",
    "    with open('payload.json') as f:\n",
    "        payload = json.load(f)\n",
    "    return payload"
   ]
  },
  {
   "cell_type": "code",
   "execution_count": 177,
   "id": "5c6109df",
   "metadata": {},
   "outputs": [],
   "source": [
    "def generate_images(base_url, payload, image_number, output_directory, image_name_format):\n",
    "    try:\n",
    "        response = requests.post(f'{base_url}/sdapi/v1/txt2img', json=payload)\n",
    "        response.raise_for_status()\n",
    "    except requests.exceptions.RequestException as err:\n",
    "        print(f\"Request error: {err}\")\n",
    "        return\n",
    "    r = response.json()\n",
    "\n",
    "    print(r)  # Print the response JSON for debugging purposes\n",
    "\n",
    "    # Check if the response structure is different than expected\n",
    "    if 'images' not in r:\n",
    "        print(\"Response structure is different. Check the response JSON.\")\n",
    "        return\n",
    "\n",
    "    # Create the output directory if it doesn't exist\n",
    "    Path(output_directory).mkdir(parents=True, exist_ok=True)\n",
    "\n",
    "    for i in r['images']:\n",
    "        try:\n",
    "            image = Image.open(io.BytesIO(base64.b64decode(i.split(\",\", 1)[0])))\n",
    "\n",
    "            png_payload = {\n",
    "                \"image\": \"data:image/png;base64,\" + i\n",
    "            }\n",
    "            response2 = requests.post(f'{base_url}/sdapi/v1/png-info', json=png_payload)\n",
    "            response2.raise_for_status()\n",
    "        except requests.exceptions.RequestException as err:\n",
    "            print(f\"Request error: {err}\")\n",
    "            continue\n",
    "\n",
    "        pnginfo = PngImagePlugin.PngInfo()\n",
    "        pnginfo.add_text(\"parameters\", response2.json().get(\"info\"))\n",
    "        image_path = Path(output_directory) / image_name_format.format(image_number+1)\n",
    "        image.save(image_path, pnginfo=pnginfo)\n",
    "        torch.cuda.empty_cache()"
   ]
  },
  {
   "cell_type": "code",
   "execution_count": 178,
   "id": "3d63b584",
   "metadata": {},
   "outputs": [],
   "source": [
    "# Load the CSV file into a DataFrame\n",
    "df = pd.read_csv('inputs.csv')"
   ]
  },
  {
   "cell_type": "code",
   "execution_count": 180,
   "id": "c05983c2",
   "metadata": {},
   "outputs": [
    {
     "name": "stderr",
     "output_type": "stream",
     "text": [
      "IOPub data rate exceeded.\n",
      "The notebook server will temporarily stop sending output\n",
      "to the client in order to avoid crashing it.\n",
      "To change this limit, set the config variable\n",
      "`--NotebookApp.iopub_data_rate_limit`.\n",
      "\n",
      "Current values:\n",
      "NotebookApp.iopub_data_rate_limit=1000000.0 (bytes/sec)\n",
      "NotebookApp.rate_limit_window=3.0 (secs)\n",
      "\n"
     ]
    }
   ],
   "source": [
    "for index, row in df.iterrows():\n",
    "    payload = load_payload()\n",
    "\n",
    "    IMAGE_NAME_FORMAT = row['Test Name'] + \".png\"\n",
    "    input_text = row['prompt']\n",
    "    input_negative_text = row['negative prompt']\n",
    "    sampler = row['sampler']\n",
    "    steps = row['steps']\n",
    "    script_name = \"x/y/z plot\"\n",
    "    checkpoints = [checkpoint.strip() for checkpoint in row['checkpoints'].split(',')]\n",
    "\n",
    "    # Remove trailing single quotation mark from the last checkpoint string\n",
    "    last_checkpoint = checkpoints[-1]\n",
    "    if last_checkpoint.endswith(\"'\"):\n",
    "        checkpoints[-1] = last_checkpoint[:-1]\n",
    "\n",
    "    x_type = 1\n",
    "    x_values = row['seeds']\n",
    "    x_values_dropdown = 0\n",
    "    y_type = 10\n",
    "    y_values = \"'\" + \"','\".join(checkpoints) + \"'\"\n",
    "    y_values_dropdown = checkpoints\n",
    "    z_type = 6\n",
    "    z_values = row['cfg values']\n",
    "    z_values_dropdown = 0\n",
    "    draw_legend = True\n",
    "    include_lone_images = False\n",
    "    include_sub_grids = False\n",
    "    no_fixed_seeds = False\n",
    "    margin_size = 0\n",
    "\n",
    "    script_args = [\n",
    "        x_type,\n",
    "        x_values,\n",
    "        x_values_dropdown,\n",
    "        y_type,\n",
    "        y_values,\n",
    "        y_values_dropdown,\n",
    "        z_type,\n",
    "        z_values,\n",
    "        z_values_dropdown,\n",
    "        draw_legend,\n",
    "        include_lone_images,\n",
    "        include_sub_grids,\n",
    "        no_fixed_seeds,\n",
    "        margin_size\n",
    "    ]\n",
    "\n",
    "    payload[\"prompt\"] = input_text\n",
    "    payload[\"negative_prompt\"] = input_negative_text\n",
    "    payload[\"sampler_index\"] = sampler\n",
    "    payload[\"steps\"] = steps\n",
    "    payload[\"script_name\"] = script_name\n",
    "    payload[\"script_args\"] = script_args\n",
    "\n",
    "    for j in range(MAX_IMAGES):\n",
    "        generate_images(BASE_URL, payload, j, OUTPUT_DIRECTORY, IMAGE_NAME_FORMAT)"
   ]
  },
  {
   "cell_type": "code",
   "execution_count": null,
   "id": "ab222785",
   "metadata": {},
   "outputs": [],
   "source": []
  }
 ],
 "metadata": {
  "kernelspec": {
   "display_name": "Python 3 (ipykernel)",
   "language": "python",
   "name": "python3"
  },
  "language_info": {
   "codemirror_mode": {
    "name": "ipython",
    "version": 3
   },
   "file_extension": ".py",
   "mimetype": "text/x-python",
   "name": "python",
   "nbconvert_exporter": "python",
   "pygments_lexer": "ipython3",
   "version": "3.10.10"
  }
 },
 "nbformat": 4,
 "nbformat_minor": 5
}
